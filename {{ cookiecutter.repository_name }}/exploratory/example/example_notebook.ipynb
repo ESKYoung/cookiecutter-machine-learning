{
 "cells": [
  {
   "cell_type": "markdown",
   "metadata": {},
   "source": [
    "# An example notebook\n",
    "\n",
    "Here are some useful code snippets to start your next Jupyter notebook."
   ]
  },
  {
   "metadata": {},
   "cell_type": "code",
   "outputs": [],
   "execution_count": null,
   "source": [
    "# Configure the exploratory Python environment for this notebook, constrained by the\n",
    "# project's Poetry environment\n",
    "!source ../set_exploratory_env.sh --help"
   ]
  },
  {
   "cell_type": "code",
   "execution_count": null,
   "metadata": {},
   "outputs": [],
   "source": [
    "from IPython.core.interactiveshell import InteractiveShell\n",
    "from src.example_package import __version__  # example import from the custom\n",
    "                                             # exploratory Python package\n",
    "\n",
    "# Enable multiple outputs per cell\n",
    "InteractiveShell.ast_node_interactivity.default_value = \"all\"\n",
    "\n",
    "# Print the custom exploratory Python package version\n",
    "print(__version__)"
   ]
  },
  {
   "cell_type": "code",
   "execution_count": null,
   "metadata": {},
   "outputs": [],
   "source": []
  }
 ],
 "metadata": {
  "language_info": {
   "codemirror_mode": {
    "name": "python",
    "version": 3
   },
   "file_extension": ".py",
   "mimetype": "text/x-python",
   "name": "python",
   "nbconvert_exporter": "python",
   "pygments_lexer": "ipython3",
   "version": "3.9.17"
  }
 },
 "nbformat": 4,
 "nbformat_minor": 4
}
